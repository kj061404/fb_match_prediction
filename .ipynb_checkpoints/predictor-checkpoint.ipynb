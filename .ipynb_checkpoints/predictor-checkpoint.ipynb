{
 "cells": [
  {
   "cell_type": "code",
   "execution_count": 1,
   "id": "db31836f-4aea-48d1-a7bb-cb076f09dfc0",
   "metadata": {},
   "outputs": [],
   "source": [
    "import pandas as pd"
   ]
  },
  {
   "cell_type": "code",
   "execution_count": 2,
   "id": "0eb07f22-4b1e-49cf-baaf-d7c0ce02925f",
   "metadata": {},
   "outputs": [],
   "source": [
    "matches = pd.read_csv(\"matches.csv\", index_col=0)"
   ]
  },
  {
   "cell_type": "code",
   "execution_count": 3,
   "id": "7d8c5cd3-07ae-4093-a633-4db13ea2807d",
   "metadata": {},
   "outputs": [
    {
     "data": {
      "text/plain": [
       "(1338, 27)"
      ]
     },
     "execution_count": 3,
     "metadata": {},
     "output_type": "execute_result"
    }
   ],
   "source": [
    "matches.shape"
   ]
  },
  {
   "cell_type": "code",
   "execution_count": 4,
   "id": "a64a3b2a-b29c-4507-9e4f-1227606487f7",
   "metadata": {},
   "outputs": [
    {
     "data": {
      "text/plain": [
       "1632"
      ]
     },
     "execution_count": 4,
     "metadata": {},
     "output_type": "execute_result"
    }
   ],
   "source": [
    "17 * 32 * 3"
   ]
  },
  {
   "cell_type": "code",
   "execution_count": 5,
   "id": "417dbecd-44a6-4299-87ba-8ac5eaff09e5",
   "metadata": {},
   "outputs": [],
   "source": [
    "matches[\"Date\"] = pd.to_datetime(matches[\"Date\"], format=\"%m/%d/%Y\")"
   ]
  },
  {
   "cell_type": "code",
   "execution_count": 6,
   "id": "930f2d9d-cf5b-4a15-8812-5acea2803140",
   "metadata": {},
   "outputs": [],
   "source": [
    "matches[\"Time\"] = matches[\"Time\"].str.replace(r'\\s*[A-Z]+', '', regex=True)"
   ]
  },
  {
   "cell_type": "code",
   "execution_count": 7,
   "id": "8b07d649-e9bb-4acf-87ca-aa6b9e736c6b",
   "metadata": {},
   "outputs": [],
   "source": [
    "matches[\"venue_code\"] = matches[\"venue\"].astype(\"category\").cat.codes"
   ]
  },
  {
   "cell_type": "code",
   "execution_count": 8,
   "id": "1d335248-9c87-4104-8d63-4024fcf23b3a",
   "metadata": {},
   "outputs": [],
   "source": [
    "matches[\"opp_code\"] = matches[\"Opp\"].astype(\"category\").cat.codes"
   ]
  },
  {
   "cell_type": "code",
   "execution_count": 9,
   "id": "b5af3611-15a7-4538-af4c-3cdda30434bc",
   "metadata": {},
   "outputs": [],
   "source": [
    "matches[\"hour\"] = matches[\"Time\"].str.replace(\":.+\", \"\", regex=True).fillna(0).astype(int)"
   ]
  },
  {
   "cell_type": "code",
   "execution_count": 10,
   "id": "4900b225-e398-420a-a7cd-d8fe3d644d7c",
   "metadata": {},
   "outputs": [],
   "source": [
    "matches[\"Day\"] = pd.to_datetime(matches[\"Day\"], errors='coerce')"
   ]
  },
  {
   "cell_type": "code",
   "execution_count": 11,
   "id": "86e2265e-61b5-4be8-8e42-b0428f7156c5",
   "metadata": {},
   "outputs": [],
   "source": [
    "matches[\"day_code\"] = matches[\"Day\"].dt.day\n",
    "\n",
    "day_map = {\n",
    "    'Mon': 1,\n",
    "    'Tue': 2,\n",
    "    'Wed': 3,\n",
    "    'Thu': 4,\n",
    "    'Fri': 5,\n",
    "    'Sat': 6,\n",
    "    'Sun': 7\n",
    "}\n",
    "\n",
    "# Map the day names to the corresponding code\n",
    "matches[\"day_code\"] = matches[\"Day\"].map(day_map)"
   ]
  },
  {
   "cell_type": "code",
   "execution_count": 12,
   "id": "214e4cda-de13-4a62-bd93-7c068a26b2d1",
   "metadata": {},
   "outputs": [
    {
     "data": {
      "text/html": [
       "<div>\n",
       "<style scoped>\n",
       "    .dataframe tbody tr th:only-of-type {\n",
       "        vertical-align: middle;\n",
       "    }\n",
       "\n",
       "    .dataframe tbody tr th {\n",
       "        vertical-align: top;\n",
       "    }\n",
       "\n",
       "    .dataframe thead th {\n",
       "        text-align: right;\n",
       "    }\n",
       "</style>\n",
       "<table border=\"1\" class=\"dataframe\">\n",
       "  <thead>\n",
       "    <tr style=\"text-align: right;\">\n",
       "      <th></th>\n",
       "      <th>Week</th>\n",
       "      <th>Day</th>\n",
       "      <th>Date</th>\n",
       "      <th>Time</th>\n",
       "      <th>Unnamed: 4_level_0</th>\n",
       "      <th>result</th>\n",
       "      <th>OT</th>\n",
       "      <th>Rec</th>\n",
       "      <th>venue</th>\n",
       "      <th>Opp</th>\n",
       "      <th>...</th>\n",
       "      <th>Defense_TO</th>\n",
       "      <th>Expected Points_Offense</th>\n",
       "      <th>Expected Points_Defense</th>\n",
       "      <th>Expected Points_Sp. Tms</th>\n",
       "      <th>Season</th>\n",
       "      <th>Team</th>\n",
       "      <th>venue_code</th>\n",
       "      <th>opp_code</th>\n",
       "      <th>hour</th>\n",
       "      <th>day_code</th>\n",
       "    </tr>\n",
       "  </thead>\n",
       "  <tbody>\n",
       "    <tr>\n",
       "      <th>0.0</th>\n",
       "      <td>1</td>\n",
       "      <td>NaT</td>\n",
       "      <td>2024-09-08</td>\n",
       "      <td>1:00</td>\n",
       "      <td>boxscore</td>\n",
       "      <td>W</td>\n",
       "      <td>NaN</td>\n",
       "      <td>Jan-00</td>\n",
       "      <td>NaN</td>\n",
       "      <td>Arizona Cardinals</td>\n",
       "      <td>...</td>\n",
       "      <td>1</td>\n",
       "      <td>13.51</td>\n",
       "      <td>-3.22</td>\n",
       "      <td>-2.25</td>\n",
       "      <td>2024.0</td>\n",
       "      <td>buf</td>\n",
       "      <td>-1</td>\n",
       "      <td>0</td>\n",
       "      <td>1</td>\n",
       "      <td>NaN</td>\n",
       "    </tr>\n",
       "    <tr>\n",
       "      <th>1.0</th>\n",
       "      <td>2</td>\n",
       "      <td>NaT</td>\n",
       "      <td>2024-09-12</td>\n",
       "      <td>8:15</td>\n",
       "      <td>boxscore</td>\n",
       "      <td>W</td>\n",
       "      <td>NaN</td>\n",
       "      <td>Feb-00</td>\n",
       "      <td>@</td>\n",
       "      <td>Miami Dolphins</td>\n",
       "      <td>...</td>\n",
       "      <td>3</td>\n",
       "      <td>8.59</td>\n",
       "      <td>14.11</td>\n",
       "      <td>-2.53</td>\n",
       "      <td>2024.0</td>\n",
       "      <td>buf</td>\n",
       "      <td>0</td>\n",
       "      <td>20</td>\n",
       "      <td>8</td>\n",
       "      <td>NaN</td>\n",
       "    </tr>\n",
       "    <tr>\n",
       "      <th>0.0</th>\n",
       "      <td>1</td>\n",
       "      <td>NaT</td>\n",
       "      <td>2024-09-09</td>\n",
       "      <td>8:15</td>\n",
       "      <td>boxscore</td>\n",
       "      <td>L</td>\n",
       "      <td>NaN</td>\n",
       "      <td>0-1</td>\n",
       "      <td>@</td>\n",
       "      <td>San Francisco 49ers</td>\n",
       "      <td>...</td>\n",
       "      <td>NaN</td>\n",
       "      <td>-2.83</td>\n",
       "      <td>-11.24</td>\n",
       "      <td>-0.93</td>\n",
       "      <td>2024.0</td>\n",
       "      <td>nyj</td>\n",
       "      <td>0</td>\n",
       "      <td>28</td>\n",
       "      <td>8</td>\n",
       "      <td>NaN</td>\n",
       "    </tr>\n",
       "    <tr>\n",
       "      <th>1.0</th>\n",
       "      <td>2</td>\n",
       "      <td>NaT</td>\n",
       "      <td>2024-09-15</td>\n",
       "      <td>1:00</td>\n",
       "      <td>boxscore</td>\n",
       "      <td>W</td>\n",
       "      <td>NaN</td>\n",
       "      <td>1-Jan</td>\n",
       "      <td>@</td>\n",
       "      <td>Tennessee Titans</td>\n",
       "      <td>...</td>\n",
       "      <td>2</td>\n",
       "      <td>5.83</td>\n",
       "      <td>-1.62</td>\n",
       "      <td>1.94</td>\n",
       "      <td>2024.0</td>\n",
       "      <td>nyj</td>\n",
       "      <td>0</td>\n",
       "      <td>31</td>\n",
       "      <td>1</td>\n",
       "      <td>NaN</td>\n",
       "    </tr>\n",
       "    <tr>\n",
       "      <th>2.0</th>\n",
       "      <td>3</td>\n",
       "      <td>NaT</td>\n",
       "      <td>2024-09-19</td>\n",
       "      <td>8:15</td>\n",
       "      <td>boxscore</td>\n",
       "      <td>W</td>\n",
       "      <td>NaN</td>\n",
       "      <td>1-Feb</td>\n",
       "      <td>NaN</td>\n",
       "      <td>New England Patriots</td>\n",
       "      <td>...</td>\n",
       "      <td>1</td>\n",
       "      <td>18.8</td>\n",
       "      <td>8.75</td>\n",
       "      <td>-11.93</td>\n",
       "      <td>2024.0</td>\n",
       "      <td>nyj</td>\n",
       "      <td>-1</td>\n",
       "      <td>22</td>\n",
       "      <td>8</td>\n",
       "      <td>NaN</td>\n",
       "    </tr>\n",
       "    <tr>\n",
       "      <th>...</th>\n",
       "      <td>...</td>\n",
       "      <td>...</td>\n",
       "      <td>...</td>\n",
       "      <td>...</td>\n",
       "      <td>...</td>\n",
       "      <td>...</td>\n",
       "      <td>...</td>\n",
       "      <td>...</td>\n",
       "      <td>...</td>\n",
       "      <td>...</td>\n",
       "      <td>...</td>\n",
       "      <td>...</td>\n",
       "      <td>...</td>\n",
       "      <td>...</td>\n",
       "      <td>...</td>\n",
       "      <td>...</td>\n",
       "      <td>...</td>\n",
       "      <td>...</td>\n",
       "      <td>...</td>\n",
       "      <td>...</td>\n",
       "      <td>...</td>\n",
       "    </tr>\n",
       "    <tr>\n",
       "      <th>NaN</th>\n",
       "      <td>NaN</td>\n",
       "      <td>NaT</td>\n",
       "      <td>NaT</td>\n",
       "      <td>NaN</td>\n",
       "      <td>NaN</td>\n",
       "      <td>NaN</td>\n",
       "      <td>NaN</td>\n",
       "      <td>NaN</td>\n",
       "      <td>NaN</td>\n",
       "      <td>NaN</td>\n",
       "      <td>...</td>\n",
       "      <td>NaN</td>\n",
       "      <td>NaN</td>\n",
       "      <td>NaN</td>\n",
       "      <td>NaN</td>\n",
       "      <td>NaN</td>\n",
       "      <td>crd</td>\n",
       "      <td>-1</td>\n",
       "      <td>-1</td>\n",
       "      <td>0</td>\n",
       "      <td>NaN</td>\n",
       "    </tr>\n",
       "    <tr>\n",
       "      <th>NaN</th>\n",
       "      <td>NaN</td>\n",
       "      <td>NaT</td>\n",
       "      <td>NaT</td>\n",
       "      <td>NaN</td>\n",
       "      <td>NaN</td>\n",
       "      <td>NaN</td>\n",
       "      <td>NaN</td>\n",
       "      <td>NaN</td>\n",
       "      <td>NaN</td>\n",
       "      <td>NaN</td>\n",
       "      <td>...</td>\n",
       "      <td>NaN</td>\n",
       "      <td>NaN</td>\n",
       "      <td>NaN</td>\n",
       "      <td>NaN</td>\n",
       "      <td>NaN</td>\n",
       "      <td>crd</td>\n",
       "      <td>-1</td>\n",
       "      <td>-1</td>\n",
       "      <td>0</td>\n",
       "      <td>NaN</td>\n",
       "    </tr>\n",
       "    <tr>\n",
       "      <th>NaN</th>\n",
       "      <td>NaN</td>\n",
       "      <td>NaT</td>\n",
       "      <td>NaT</td>\n",
       "      <td>NaN</td>\n",
       "      <td>NaN</td>\n",
       "      <td>NaN</td>\n",
       "      <td>NaN</td>\n",
       "      <td>NaN</td>\n",
       "      <td>NaN</td>\n",
       "      <td>NaN</td>\n",
       "      <td>...</td>\n",
       "      <td>NaN</td>\n",
       "      <td>NaN</td>\n",
       "      <td>NaN</td>\n",
       "      <td>NaN</td>\n",
       "      <td>NaN</td>\n",
       "      <td>crd</td>\n",
       "      <td>-1</td>\n",
       "      <td>-1</td>\n",
       "      <td>0</td>\n",
       "      <td>NaN</td>\n",
       "    </tr>\n",
       "    <tr>\n",
       "      <th>NaN</th>\n",
       "      <td>NaN</td>\n",
       "      <td>NaT</td>\n",
       "      <td>NaT</td>\n",
       "      <td>NaN</td>\n",
       "      <td>NaN</td>\n",
       "      <td>NaN</td>\n",
       "      <td>NaN</td>\n",
       "      <td>NaN</td>\n",
       "      <td>NaN</td>\n",
       "      <td>NaN</td>\n",
       "      <td>...</td>\n",
       "      <td>NaN</td>\n",
       "      <td>NaN</td>\n",
       "      <td>NaN</td>\n",
       "      <td>NaN</td>\n",
       "      <td>NaN</td>\n",
       "      <td>crd</td>\n",
       "      <td>-1</td>\n",
       "      <td>-1</td>\n",
       "      <td>0</td>\n",
       "      <td>NaN</td>\n",
       "    </tr>\n",
       "    <tr>\n",
       "      <th>NaN</th>\n",
       "      <td>NaN</td>\n",
       "      <td>NaT</td>\n",
       "      <td>NaT</td>\n",
       "      <td>NaN</td>\n",
       "      <td>NaN</td>\n",
       "      <td>NaN</td>\n",
       "      <td>NaN</td>\n",
       "      <td>NaN</td>\n",
       "      <td>NaN</td>\n",
       "      <td>NaN</td>\n",
       "      <td>...</td>\n",
       "      <td>NaN</td>\n",
       "      <td>NaN</td>\n",
       "      <td>NaN</td>\n",
       "      <td>NaN</td>\n",
       "      <td>NaN</td>\n",
       "      <td>crd</td>\n",
       "      <td>-1</td>\n",
       "      <td>-1</td>\n",
       "      <td>0</td>\n",
       "      <td>NaN</td>\n",
       "    </tr>\n",
       "  </tbody>\n",
       "</table>\n",
       "<p>1338 rows × 31 columns</p>\n",
       "</div>"
      ],
      "text/plain": [
       "    Week Day       Date  Time Unnamed: 4_level_0 result   OT     Rec venue  \\\n",
       "0.0    1 NaT 2024-09-08  1:00           boxscore      W  NaN  Jan-00   NaN   \n",
       "1.0    2 NaT 2024-09-12  8:15           boxscore      W  NaN  Feb-00     @   \n",
       "0.0    1 NaT 2024-09-09  8:15           boxscore      L  NaN     0-1     @   \n",
       "1.0    2 NaT 2024-09-15  1:00           boxscore      W  NaN   1-Jan     @   \n",
       "2.0    3 NaT 2024-09-19  8:15           boxscore      W  NaN   1-Feb   NaN   \n",
       "..   ...  ..        ...   ...                ...    ...  ...     ...   ...   \n",
       "NaN  NaN NaT        NaT   NaN                NaN    NaN  NaN     NaN   NaN   \n",
       "NaN  NaN NaT        NaT   NaN                NaN    NaN  NaN     NaN   NaN   \n",
       "NaN  NaN NaT        NaT   NaN                NaN    NaN  NaN     NaN   NaN   \n",
       "NaN  NaN NaT        NaT   NaN                NaN    NaN  NaN     NaN   NaN   \n",
       "NaN  NaN NaT        NaT   NaN                NaN    NaN  NaN     NaN   NaN   \n",
       "\n",
       "                      Opp  ... Defense_TO Expected Points_Offense  \\\n",
       "0.0     Arizona Cardinals  ...          1                   13.51   \n",
       "1.0        Miami Dolphins  ...          3                    8.59   \n",
       "0.0   San Francisco 49ers  ...        NaN                   -2.83   \n",
       "1.0      Tennessee Titans  ...          2                    5.83   \n",
       "2.0  New England Patriots  ...          1                    18.8   \n",
       "..                    ...  ...        ...                     ...   \n",
       "NaN                   NaN  ...        NaN                     NaN   \n",
       "NaN                   NaN  ...        NaN                     NaN   \n",
       "NaN                   NaN  ...        NaN                     NaN   \n",
       "NaN                   NaN  ...        NaN                     NaN   \n",
       "NaN                   NaN  ...        NaN                     NaN   \n",
       "\n",
       "    Expected Points_Defense Expected Points_Sp. Tms  Season Team venue_code  \\\n",
       "0.0                   -3.22                   -2.25  2024.0  buf         -1   \n",
       "1.0                   14.11                   -2.53  2024.0  buf          0   \n",
       "0.0                  -11.24                   -0.93  2024.0  nyj          0   \n",
       "1.0                   -1.62                    1.94  2024.0  nyj          0   \n",
       "2.0                    8.75                  -11.93  2024.0  nyj         -1   \n",
       "..                      ...                     ...     ...  ...        ...   \n",
       "NaN                     NaN                     NaN     NaN  crd         -1   \n",
       "NaN                     NaN                     NaN     NaN  crd         -1   \n",
       "NaN                     NaN                     NaN     NaN  crd         -1   \n",
       "NaN                     NaN                     NaN     NaN  crd         -1   \n",
       "NaN                     NaN                     NaN     NaN  crd         -1   \n",
       "\n",
       "    opp_code hour day_code  \n",
       "0.0        0    1      NaN  \n",
       "1.0       20    8      NaN  \n",
       "0.0       28    8      NaN  \n",
       "1.0       31    1      NaN  \n",
       "2.0       22    8      NaN  \n",
       "..       ...  ...      ...  \n",
       "NaN       -1    0      NaN  \n",
       "NaN       -1    0      NaN  \n",
       "NaN       -1    0      NaN  \n",
       "NaN       -1    0      NaN  \n",
       "NaN       -1    0      NaN  \n",
       "\n",
       "[1338 rows x 31 columns]"
      ]
     },
     "execution_count": 12,
     "metadata": {},
     "output_type": "execute_result"
    }
   ],
   "source": [
    "matches"
   ]
  },
  {
   "cell_type": "code",
   "execution_count": 13,
   "id": "80581db8-fa02-4d00-a2ca-3127a5c4e278",
   "metadata": {},
   "outputs": [],
   "source": [
    "matches[\"target\"] = (matches[\"result\"] == \"W\").astype(\"int\")"
   ]
  },
  {
   "cell_type": "code",
   "execution_count": 14,
   "id": "20b62174-9884-4143-ab09-4e93e81a1933",
   "metadata": {},
   "outputs": [],
   "source": [
    "from sklearn.ensemble import RandomForestClassifier"
   ]
  },
  {
   "cell_type": "code",
   "execution_count": 15,
   "id": "d4b8537b-2d65-4fde-9990-34da0a1ff3be",
   "metadata": {},
   "outputs": [],
   "source": [
    "rf = RandomForestClassifier(n_estimators=50, min_samples_split=10, random_state=1)"
   ]
  },
  {
   "cell_type": "code",
   "execution_count": 16,
   "id": "2f667f6a-9d1f-45b7-8edb-34d5f0cfa28d",
   "metadata": {},
   "outputs": [],
   "source": [
    "train = matches[matches[\"Date\"] < '2024-06-01']"
   ]
  },
  {
   "cell_type": "code",
   "execution_count": 17,
   "id": "e306481d-9598-4b8c-88b2-28e314b8bb2d",
   "metadata": {},
   "outputs": [],
   "source": [
    "test = matches[matches[\"Date\"] > '2024-06-01']"
   ]
  },
  {
   "cell_type": "code",
   "execution_count": 18,
   "id": "c1ccda1f-bd71-4abf-9ca2-df24ae370b06",
   "metadata": {},
   "outputs": [],
   "source": [
    "predictors = [\"venue_code\", \"opp_code\", \"hour\"]"
   ]
  },
  {
   "cell_type": "code",
   "execution_count": 19,
   "id": "60d9e8db-b1c4-4e3b-9987-4a14f6a87981",
   "metadata": {},
   "outputs": [
    {
     "ename": "ValueError",
     "evalue": "Found array with 0 sample(s) (shape=(0, 3)) while a minimum of 1 is required.",
     "output_type": "error",
     "traceback": [
      "\u001b[0;31m---------------------------------------------------------------------------\u001b[0m",
      "\u001b[0;31mValueError\u001b[0m                                Traceback (most recent call last)",
      "\u001b[0;32m/var/folders/qh/wj8p145j7mz2d66hzyvlg7n00000gn/T/ipykernel_81808/2981127904.py\u001b[0m in \u001b[0;36m<module>\u001b[0;34m\u001b[0m\n\u001b[0;32m----> 1\u001b[0;31m \u001b[0mrf\u001b[0m\u001b[0;34m.\u001b[0m\u001b[0mfit\u001b[0m\u001b[0;34m(\u001b[0m\u001b[0mtrain\u001b[0m\u001b[0;34m[\u001b[0m\u001b[0mpredictors\u001b[0m\u001b[0;34m]\u001b[0m\u001b[0;34m,\u001b[0m \u001b[0mtrain\u001b[0m\u001b[0;34m[\u001b[0m\u001b[0;34m\"target\"\u001b[0m\u001b[0;34m]\u001b[0m\u001b[0;34m)\u001b[0m\u001b[0;34m\u001b[0m\u001b[0;34m\u001b[0m\u001b[0m\n\u001b[0m",
      "\u001b[0;32m~/opt/anaconda3/lib/python3.9/site-packages/sklearn/ensemble/_forest.py\u001b[0m in \u001b[0;36mfit\u001b[0;34m(self, X, y, sample_weight)\u001b[0m\n\u001b[1;32m    325\u001b[0m         \u001b[0;32mif\u001b[0m \u001b[0missparse\u001b[0m\u001b[0;34m(\u001b[0m\u001b[0my\u001b[0m\u001b[0;34m)\u001b[0m\u001b[0;34m:\u001b[0m\u001b[0;34m\u001b[0m\u001b[0;34m\u001b[0m\u001b[0m\n\u001b[1;32m    326\u001b[0m             \u001b[0;32mraise\u001b[0m \u001b[0mValueError\u001b[0m\u001b[0;34m(\u001b[0m\u001b[0;34m\"sparse multilabel-indicator for y is not supported.\"\u001b[0m\u001b[0;34m)\u001b[0m\u001b[0;34m\u001b[0m\u001b[0;34m\u001b[0m\u001b[0m\n\u001b[0;32m--> 327\u001b[0;31m         X, y = self._validate_data(\n\u001b[0m\u001b[1;32m    328\u001b[0m             \u001b[0mX\u001b[0m\u001b[0;34m,\u001b[0m \u001b[0my\u001b[0m\u001b[0;34m,\u001b[0m \u001b[0mmulti_output\u001b[0m\u001b[0;34m=\u001b[0m\u001b[0;32mTrue\u001b[0m\u001b[0;34m,\u001b[0m \u001b[0maccept_sparse\u001b[0m\u001b[0;34m=\u001b[0m\u001b[0;34m\"csc\"\u001b[0m\u001b[0;34m,\u001b[0m \u001b[0mdtype\u001b[0m\u001b[0;34m=\u001b[0m\u001b[0mDTYPE\u001b[0m\u001b[0;34m\u001b[0m\u001b[0;34m\u001b[0m\u001b[0m\n\u001b[1;32m    329\u001b[0m         )\n",
      "\u001b[0;32m~/opt/anaconda3/lib/python3.9/site-packages/sklearn/base.py\u001b[0m in \u001b[0;36m_validate_data\u001b[0;34m(self, X, y, reset, validate_separately, **check_params)\u001b[0m\n\u001b[1;32m    579\u001b[0m                 \u001b[0my\u001b[0m \u001b[0;34m=\u001b[0m \u001b[0mcheck_array\u001b[0m\u001b[0;34m(\u001b[0m\u001b[0my\u001b[0m\u001b[0;34m,\u001b[0m \u001b[0;34m**\u001b[0m\u001b[0mcheck_y_params\u001b[0m\u001b[0;34m)\u001b[0m\u001b[0;34m\u001b[0m\u001b[0;34m\u001b[0m\u001b[0m\n\u001b[1;32m    580\u001b[0m             \u001b[0;32melse\u001b[0m\u001b[0;34m:\u001b[0m\u001b[0;34m\u001b[0m\u001b[0;34m\u001b[0m\u001b[0m\n\u001b[0;32m--> 581\u001b[0;31m                 \u001b[0mX\u001b[0m\u001b[0;34m,\u001b[0m \u001b[0my\u001b[0m \u001b[0;34m=\u001b[0m \u001b[0mcheck_X_y\u001b[0m\u001b[0;34m(\u001b[0m\u001b[0mX\u001b[0m\u001b[0;34m,\u001b[0m \u001b[0my\u001b[0m\u001b[0;34m,\u001b[0m \u001b[0;34m**\u001b[0m\u001b[0mcheck_params\u001b[0m\u001b[0;34m)\u001b[0m\u001b[0;34m\u001b[0m\u001b[0;34m\u001b[0m\u001b[0m\n\u001b[0m\u001b[1;32m    582\u001b[0m             \u001b[0mout\u001b[0m \u001b[0;34m=\u001b[0m \u001b[0mX\u001b[0m\u001b[0;34m,\u001b[0m \u001b[0my\u001b[0m\u001b[0;34m\u001b[0m\u001b[0;34m\u001b[0m\u001b[0m\n\u001b[1;32m    583\u001b[0m \u001b[0;34m\u001b[0m\u001b[0m\n",
      "\u001b[0;32m~/opt/anaconda3/lib/python3.9/site-packages/sklearn/utils/validation.py\u001b[0m in \u001b[0;36mcheck_X_y\u001b[0;34m(X, y, accept_sparse, accept_large_sparse, dtype, order, copy, force_all_finite, ensure_2d, allow_nd, multi_output, ensure_min_samples, ensure_min_features, y_numeric, estimator)\u001b[0m\n\u001b[1;32m    962\u001b[0m         \u001b[0;32mraise\u001b[0m \u001b[0mValueError\u001b[0m\u001b[0;34m(\u001b[0m\u001b[0;34m\"y cannot be None\"\u001b[0m\u001b[0;34m)\u001b[0m\u001b[0;34m\u001b[0m\u001b[0;34m\u001b[0m\u001b[0m\n\u001b[1;32m    963\u001b[0m \u001b[0;34m\u001b[0m\u001b[0m\n\u001b[0;32m--> 964\u001b[0;31m     X = check_array(\n\u001b[0m\u001b[1;32m    965\u001b[0m         \u001b[0mX\u001b[0m\u001b[0;34m,\u001b[0m\u001b[0;34m\u001b[0m\u001b[0;34m\u001b[0m\u001b[0m\n\u001b[1;32m    966\u001b[0m         \u001b[0maccept_sparse\u001b[0m\u001b[0;34m=\u001b[0m\u001b[0maccept_sparse\u001b[0m\u001b[0;34m,\u001b[0m\u001b[0;34m\u001b[0m\u001b[0;34m\u001b[0m\u001b[0m\n",
      "\u001b[0;32m~/opt/anaconda3/lib/python3.9/site-packages/sklearn/utils/validation.py\u001b[0m in \u001b[0;36mcheck_array\u001b[0;34m(array, accept_sparse, accept_large_sparse, dtype, order, copy, force_all_finite, ensure_2d, allow_nd, ensure_min_samples, ensure_min_features, estimator)\u001b[0m\n\u001b[1;32m    803\u001b[0m         \u001b[0mn_samples\u001b[0m \u001b[0;34m=\u001b[0m \u001b[0m_num_samples\u001b[0m\u001b[0;34m(\u001b[0m\u001b[0marray\u001b[0m\u001b[0;34m)\u001b[0m\u001b[0;34m\u001b[0m\u001b[0;34m\u001b[0m\u001b[0m\n\u001b[1;32m    804\u001b[0m         \u001b[0;32mif\u001b[0m \u001b[0mn_samples\u001b[0m \u001b[0;34m<\u001b[0m \u001b[0mensure_min_samples\u001b[0m\u001b[0;34m:\u001b[0m\u001b[0;34m\u001b[0m\u001b[0;34m\u001b[0m\u001b[0m\n\u001b[0;32m--> 805\u001b[0;31m             raise ValueError(\n\u001b[0m\u001b[1;32m    806\u001b[0m                 \u001b[0;34m\"Found array with %d sample(s) (shape=%s) while a\"\u001b[0m\u001b[0;34m\u001b[0m\u001b[0;34m\u001b[0m\u001b[0m\n\u001b[1;32m    807\u001b[0m                 \u001b[0;34m\" minimum of %d is required%s.\"\u001b[0m\u001b[0;34m\u001b[0m\u001b[0;34m\u001b[0m\u001b[0m\n",
      "\u001b[0;31mValueError\u001b[0m: Found array with 0 sample(s) (shape=(0, 3)) while a minimum of 1 is required."
     ]
    }
   ],
   "source": [
    "rf.fit(train[predictors], train[\"target\"])"
   ]
  },
  {
   "cell_type": "code",
   "execution_count": 20,
   "id": "e7282eb6-ea46-4630-bc37-18addce8b858",
   "metadata": {},
   "outputs": [
    {
     "name": "stdout",
     "output_type": "stream",
     "text": [
      "datetime64[ns]\n"
     ]
    }
   ],
   "source": [
    "print(matches[\"Date\"].dtype)"
   ]
  },
  {
   "cell_type": "code",
   "execution_count": 21,
   "id": "459f0a11-7c64-465a-bde7-1010a0b15e4a",
   "metadata": {},
   "outputs": [
    {
     "name": "stdout",
     "output_type": "stream",
     "text": [
      "(0, 32)\n",
      "(1203, 32)\n"
     ]
    }
   ],
   "source": [
    "print(matches[matches[\"Date\"] < '2024-01-01'].shape)\n",
    "print(matches[matches[\"Date\"] > '2024-01-01'].shape)"
   ]
  },
  {
   "cell_type": "code",
   "execution_count": 22,
   "id": "74164640-df9c-49eb-852a-4baf8a2ff45b",
   "metadata": {},
   "outputs": [
    {
     "name": "stdout",
     "output_type": "stream",
     "text": [
      "2024-01-01 00:00:00\n",
      "2024-12-31 00:00:00\n"
     ]
    }
   ],
   "source": [
    "print(matches[\"Date\"].min())\n",
    "print(matches[\"Date\"].max())"
   ]
  },
  {
   "cell_type": "code",
   "execution_count": null,
   "id": "44e0c451-6aad-4915-9b63-0e855feb0e4b",
   "metadata": {},
   "outputs": [],
   "source": []
  }
 ],
 "metadata": {
  "kernelspec": {
   "display_name": "Python 3 (ipykernel)",
   "language": "python",
   "name": "python3"
  },
  "language_info": {
   "codemirror_mode": {
    "name": "ipython",
    "version": 3
   },
   "file_extension": ".py",
   "mimetype": "text/x-python",
   "name": "python",
   "nbconvert_exporter": "python",
   "pygments_lexer": "ipython3",
   "version": "3.9.13"
  }
 },
 "nbformat": 4,
 "nbformat_minor": 5
}
