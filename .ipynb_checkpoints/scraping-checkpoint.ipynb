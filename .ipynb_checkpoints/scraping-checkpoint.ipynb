{
 "cells": [
  {
   "cell_type": "code",
   "execution_count": 1,
   "id": "fe62cacd-e4ab-4f17-bc83-17ca086e4a1b",
   "metadata": {},
   "outputs": [],
   "source": [
    "import requests"
   ]
  },
  {
   "cell_type": "code",
   "execution_count": 2,
   "id": "c7f09ea8-f185-4d2f-aeb0-a19d408fdad4",
   "metadata": {},
   "outputs": [],
   "source": [
    "standings_url = \"https://www.pro-football-reference.com/years/2023/index.htm\""
   ]
  },
  {
   "cell_type": "code",
   "execution_count": 3,
   "id": "79cb6b2d-2c5e-46f5-9b17-eda0e03511a9",
   "metadata": {},
   "outputs": [],
   "source": [
    "data = requests.get(standings_url)"
   ]
  },
  {
   "cell_type": "code",
   "execution_count": 4,
   "id": "3d771956-e643-4932-b37f-9a4f0e7d0b9a",
   "metadata": {},
   "outputs": [],
   "source": [
    "from bs4 import BeautifulSoup"
   ]
  },
  {
   "cell_type": "code",
   "execution_count": 5,
   "id": "bc75847f-349a-4880-a422-a865c7401f2a",
   "metadata": {},
   "outputs": [],
   "source": [
    "soup = BeautifulSoup(data.text)"
   ]
  },
  {
   "cell_type": "code",
   "execution_count": 6,
   "id": "95666592-7d98-4eb6-a220-cf5bcc40faac",
   "metadata": {},
   "outputs": [],
   "source": [
    "afc_standings_table = soup.select('table.stats_table')[0]"
   ]
  },
  {
   "cell_type": "code",
   "execution_count": 7,
   "id": "948d4caf-7cd6-44fc-8a9f-ac792f712386",
   "metadata": {},
   "outputs": [],
   "source": [
    "nfc_standings_table = soup.select('table.stats_table')[1]"
   ]
  },
  {
   "cell_type": "code",
   "execution_count": 8,
   "id": "7cf01092-957a-4bc0-832b-9db4f65c16d2",
   "metadata": {},
   "outputs": [],
   "source": [
    "afc_links = afc_standings_table.find_all('a')\n",
    "nfc_links = nfc_standings_table.find_all('a')"
   ]
  },
  {
   "cell_type": "code",
   "execution_count": 9,
   "id": "d2b621ce-0a28-4902-9bac-48011bd9524f",
   "metadata": {},
   "outputs": [],
   "source": [
    "nfl_links = afc_links + nfc_links"
   ]
  },
  {
   "cell_type": "code",
   "execution_count": 10,
   "id": "cbe4148a-2896-435a-9507-766fcbe1f441",
   "metadata": {},
   "outputs": [],
   "source": [
    "nfl_links = [l.get(\"href\") for l in nfl_links]"
   ]
  },
  {
   "cell_type": "code",
   "execution_count": 11,
   "id": "a91ed632-b58d-4949-82d2-b39537150dca",
   "metadata": {},
   "outputs": [],
   "source": [
    "nfl_links = [l for l in nfl_links if '/teams/' in l]"
   ]
  },
  {
   "cell_type": "code",
   "execution_count": 12,
   "id": "ad8d37a1-e9c5-4f16-a98e-f5974688098f",
   "metadata": {},
   "outputs": [],
   "source": [
    "nfl_urls = [f\"https://www.pro-football-reference.com{l}\" for l in nfl_links]"
   ]
  },
  {
   "cell_type": "code",
   "execution_count": 13,
   "id": "de3f2c13-3d06-48c6-ae80-347d2f41970c",
   "metadata": {},
   "outputs": [],
   "source": [
    "team_url = nfl_urls[0]"
   ]
  },
  {
   "cell_type": "code",
   "execution_count": 14,
   "id": "3001d4a0-42d3-45c7-9c43-806843784b7f",
   "metadata": {},
   "outputs": [],
   "source": [
    "data = requests.get(team_url)"
   ]
  },
  {
   "cell_type": "code",
   "execution_count": 15,
   "id": "257f64dd-2d1e-45f9-aee1-7704b7b3041a",
   "metadata": {},
   "outputs": [],
   "source": [
    "import pandas as pd\n",
    "\n",
    "matches = pd.read_html(data.text, match=\"Schedule & Game Results\")[0]"
   ]
  },
  {
   "cell_type": "code",
   "execution_count": 16,
   "id": "e8be7c42-7ed6-44f2-99f5-96b01a78cb8e",
   "metadata": {},
   "outputs": [],
   "source": [
    "matches.columns = matches.columns.droplevel()"
   ]
  }
 ],
 "metadata": {
  "kernelspec": {
   "display_name": "Python 3 (ipykernel)",
   "language": "python",
   "name": "python3"
  },
  "language_info": {
   "codemirror_mode": {
    "name": "ipython",
    "version": 3
   },
   "file_extension": ".py",
   "mimetype": "text/x-python",
   "name": "python",
   "nbconvert_exporter": "python",
   "pygments_lexer": "ipython3",
   "version": "3.9.13"
  }
 },
 "nbformat": 4,
 "nbformat_minor": 5
}
